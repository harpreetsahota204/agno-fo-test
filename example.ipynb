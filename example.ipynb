{
 "cells": [
  {
   "cell_type": "code",
   "execution_count": 1,
   "metadata": {},
   "outputs": [],
   "source": [
    "import os\n",
    "from getpass import getpass\n",
    "\n",
    "os.environ[\"GOOGLE_API_KEY\"] = getpass(\"Enter your Gemini API key: \")"
   ]
  },
  {
   "cell_type": "code",
   "execution_count": null,
   "metadata": {},
   "outputs": [],
   "source": [
    "import os\n",
    "\n",
    "os.environ['FIFTYONE_ALLOW_LEGACY_ORCHESTRATORS'] = 'true'"
   ]
  },
  {
   "cell_type": "markdown",
   "metadata": {},
   "source": [
    "Download dataset from HF and take a small sample:"
   ]
  },
  {
   "cell_type": "code",
   "execution_count": 7,
   "metadata": {},
   "outputs": [],
   "source": [
    "import fiftyone as fo\n",
    "import fiftyone.utils.huggingface as fouh\n",
    "\n",
    "dataset = fouh.load_from_hub(\"Voxel51/ScreenSpot\")\n",
    "\n",
    "smol_ds = dataset.take(3).clone(name=\"smol_spot\")"
   ]
  },
  {
   "cell_type": "markdown",
   "metadata": {},
   "source": [
    "Install plugins and download requirements:"
   ]
  },
  {
   "cell_type": "code",
   "execution_count": null,
   "metadata": {},
   "outputs": [],
   "source": [
    "!fiftyone plugins download https://github.com/harpreetsahota204/agno-fo-test"
   ]
  },
  {
   "cell_type": "code",
   "execution_count": null,
   "metadata": {},
   "outputs": [],
   "source": [
    "!fiftyone plugins requirements @harpreetsahota/agnoagent --install"
   ]
  },
  {
   "cell_type": "markdown",
   "metadata": {},
   "source": [
    "You can use the operator in the app.\n",
    "\n",
    "First, launch the app:\n",
    "\n",
    "```python\n",
    "\n",
    "import fiftyone as fo\n",
    "\n",
    "fo.launch_app(smol_ds)\n",
    "\n",
    "```\n",
    "\n",
    "Then hit the backtick key on your keyboard (\\`\\), this will open the operator panel. Type in `Agno Agent` and fill out the form:\n",
    "\n",
    "<img src=\"assets/agno_agent_app.gif\">\n"
   ]
  },
  {
   "cell_type": "markdown",
   "metadata": {},
   "source": [
    "You can also run the plugin via the sdk:"
   ]
  },
  {
   "cell_type": "code",
   "execution_count": null,
   "metadata": {},
   "outputs": [],
   "source": [
    "import fiftyone.operators as foo\n",
    "\n",
    "agno_agent = foo.get_operator(\"@harpreetsahota/agnoagent/agno_agent\")"
   ]
  },
  {
   "cell_type": "code",
   "execution_count": 17,
   "metadata": {},
   "outputs": [],
   "source": [
    "SYSTEM_MESSAGE = \"\"\"Given an image of a GUI screenshot and a corresponding instruction, the task is to \n",
    "output one bounding box for the relevant GUI element in the screenshot that correspond to the instruction and \n",
    "associated with one of the following labels: text or icon. \n",
    "\"\"\""
   ]
  },
  {
   "cell_type": "markdown",
   "metadata": {},
   "source": [
    "Kick off a delegated service, open your terminal and type: `fiftyone delegated launch`.\n",
    "\n",
    "Then run the following cell:"
   ]
  },
  {
   "cell_type": "code",
   "execution_count": null,
   "metadata": {},
   "outputs": [],
   "source": [
    "await agno_agent(\n",
    "    smol_ds,\n",
    "    operation_mode=\"prompt_field\",\n",
    "    output_field=\"field_predictions\", # you can name this whatever you want\n",
    "    system_message=SYSTEM_MESSAGE,\n",
    "    prompt_field=\"instruction\", # this should be the field in the dataset that contains the instruction\n",
    "    verbose=True,\n",
    ")"
   ]
  },
  {
   "cell_type": "markdown",
   "metadata": {},
   "source": [
    "Alternatively, you can pass in a a free form instruction which will be used on each Sample in the dataset:"
   ]
  },
  {
   "cell_type": "code",
   "execution_count": null,
   "metadata": {},
   "outputs": [],
   "source": [
    "await agno_agent(\n",
    "    smol_ds,\n",
    "    operation_mode=\"text_prompt\",\n",
    "    output_field=\"predictions\",      # where to store results\n",
    "    system_message=SYSTEM_MESSAGE,\n",
    "    text_prompt=\"Find all buttons in this image\",  # prompt applied to all images\n",
    "    verbose=True,                   # enable debugging output\n",
    ")"
   ]
  }
 ],
 "metadata": {
  "kernelspec": {
   "display_name": "agno_fo",
   "language": "python",
   "name": "python3"
  },
  "language_info": {
   "codemirror_mode": {
    "name": "ipython",
    "version": 3
   },
   "file_extension": ".py",
   "mimetype": "text/x-python",
   "name": "python",
   "nbconvert_exporter": "python",
   "pygments_lexer": "ipython3",
   "version": "3.10.16"
  }
 },
 "nbformat": 4,
 "nbformat_minor": 2
}
